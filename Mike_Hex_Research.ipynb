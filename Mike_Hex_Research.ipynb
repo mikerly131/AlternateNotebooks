{
 "cells": [
  {
   "cell_type": "markdown",
   "id": "dae0053b-a15f-4a80-88b9-e4151bbccbbe",
   "metadata": {},
   "source": [
    "# Alternative Notebook - HEX\n",
    "\n",
    "[Hex Platform Site](https://hex.tech/product/notebooks/)\n",
    "\n",
    "[Test Notebook](https://app.hex.tech/ee3e63bc-eb11-48e9-88e7-3f46711a2792/app/25723c42-9656-4753-ab7c-340c9ee20129/latest)"
   ]
  },
  {
   "cell_type": "code",
   "execution_count": null,
   "id": "e209a622-0c8c-46e5-9f5c-61fe52747391",
   "metadata": {},
   "outputs": [],
   "source": []
  }
 ],
 "metadata": {
  "kernelspec": {
   "display_name": "Python 3 (ipykernel)",
   "language": "python",
   "name": "python3"
  },
  "language_info": {
   "codemirror_mode": {
    "name": "ipython",
    "version": 3
   },
   "file_extension": ".py",
   "mimetype": "text/x-python",
   "name": "python",
   "nbconvert_exporter": "python",
   "pygments_lexer": "ipython3",
   "version": "3.12.0"
  }
 },
 "nbformat": 4,
 "nbformat_minor": 5
}
